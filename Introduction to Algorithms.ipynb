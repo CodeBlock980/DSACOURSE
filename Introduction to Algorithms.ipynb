{
  "nbformat": 4,
  "nbformat_minor": 0,
  "metadata": {
    "colab": {
      "provenance": []
    },
    "kernelspec": {
      "name": "python3",
      "display_name": "Python 3"
    },
    "language_info": {
      "name": "python"
    }
  },
  "cells": [
    {
      "cell_type": "markdown",
      "source": [
        "***Intended Learning Outcomes***\n",
        "1.   Define Algorithms and its Applications\n",
        "2.   Ways on presenting an Algorithms\n",
        "\n"
      ],
      "metadata": {
        "id": "0CVJlfbdXDXS"
      }
    },
    {
      "cell_type": "markdown",
      "source": [
        "# ***What are Algorithms?![image_2024-02-19_214454739.png](data:image/png;base64,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)***\n"
      ],
      "metadata": {
        "id": "FeJXkAN1duiS"
      }
    },
    {
      "cell_type": "markdown",
      "source": [
        "* When you say Algorithms. These are basically ***procedures*** or ***steps*** to solve a particular problem ***systematically***. It could be in relation to any problem because the word Algorithm is ***not*** ***only*** ***exclusive*** to the world of programming.\n",
        "\n",
        "* Algorithms are found ***everywhere***! In fact, one of the most common examples of an algorithm that you do (that you probably do not notice) is your morning routine.\n",
        "* ***Consider the image above:*** Notice how most of the time that after you wake up, you always do this routine or preparation before going to work, school, or to start the day in general. Algorithms are not hard to define, its simplicity can be understood by everyone. However, despite it being simple, we can integrate it with complex concepts just like in the field of Electronics, how Alternating current is transformed into Direct current. In the field of networking, how data travels using the OSI Model. In the field of Mathematics, where we apply different theorem to a Differential Equation to transform the General Solution to a Particular Solution and so much more.\n",
        "\n",
        "\n",
        "\n",
        "\n",
        "\n",
        "\n",
        "\n"
      ],
      "metadata": {
        "id": "4HtNki4BeC0J"
      }
    },
    {
      "cell_type": "markdown",
      "source": [
        "# ***Presenting and Reading Algorithms***"
      ],
      "metadata": {
        "id": "iZaS-E3tod7U"
      }
    },
    {
      "cell_type": "markdown",
      "source": [
        "***So how are we suppose to read an algorithm?***\n",
        "\n",
        "* Well, we must first visualize and create a plan to attack the problem. We could make different models, sketches, or drawings that would help visualize our plan but there are other methods that are solely based on \"formality\" or what is \"common\" for most people who are also involved in this discipline (which will be discussed in this module).\n",
        "\n",
        "* ***So what are these ways to visualize an algorithm?*** One formal way on presenting your plan of attack to a problem is by the use of ***Flow Charts***. Im sure that you are familiar with Flow charts but if not, one example is the image that I used above. As you can see, the flow chart is composed of many components and these components include the following:\n",
        "\n",
        "*   ***Shapes*** - Which represent a step or procedure (Rectangle for Process, Diamond for Condition, etc)\n",
        "*   ***Arrows*** - Which references to the next step.\n",
        "\n",
        "\n",
        "***Another way of presenting algorithms is by the use of Pseudocode***\n",
        " * Pseudocode, is another way to present an algorithm, but instead of using shapes and lines, it uses some ***terminologies that you often find in programming languages***.\n",
        "\n",
        " * Moreover, note that when using this method of presenting an Algorithm. Your ***pseudocode does not need to be perfectly inline with the programming language that you chose***.\n",
        "\n",
        "\n",
        "\n",
        "\n",
        "\n",
        "\n"
      ],
      "metadata": {
        "id": "6OOStjF2rCjp"
      }
    },
    {
      "cell_type": "markdown",
      "source": [
        "Consider the code below:"
      ],
      "metadata": {
        "id": "aJwu7RU9Cel-"
      }
    },
    {
      "cell_type": "code",
      "source": [
        "'''\n",
        "list of numbers\n",
        "\n",
        "for number in list of numbers\n",
        "  if number in list of numbers\n",
        "    print True\n",
        "  else\n",
        "    print False\n",
        "\n",
        "'''"
      ],
      "metadata": {
        "id": "g4npXYEKDUlg"
      },
      "execution_count": null,
      "outputs": []
    },
    {
      "cell_type": "markdown",
      "source": [
        "* In this sample code, I used Python as a basis to create a pseudocode. A pseudocode is a code that is not entirely correct with regards to how a conditional statement is written in Python. However, it is somewhat identical to how a Python conditional statment is written.\n",
        "\n",
        "* The key here is to ***show how the algorithm works***. In the example code above, notice how it is about finding a certain number in the list of numbers. The numbers prints out a string \"True\" if the number is inside the list or else it prints out \"False\"."
      ],
      "metadata": {
        "id": "f37GejY1DEdk"
      }
    },
    {
      "cell_type": "markdown",
      "source": [
        "\n",
        "\n",
        "---\n",
        "\n"
      ],
      "metadata": {
        "id": "YjhPHFYU0KBQ"
      }
    },
    {
      "cell_type": "markdown",
      "source": [
        "# Conclusion\n",
        "\n",
        "***Some key takeaways for this module:***\n",
        "\n",
        "1.   *Algorithms are basically steps and procedures to solve a particular problem*\n",
        "2.   *Flow charts, and Psuedocode are the some of the formal ways to present an algorithm in the programming world.*\n",
        "3. *Algorithms can be found everywhere, wether it be the simplest or the most complex concepts.*\n"
      ],
      "metadata": {
        "id": "hoQjeKAVYmJU"
      }
    },
    {
      "cell_type": "markdown",
      "source": [
        "# Next Topic\n",
        "2. ***The Big O Notation***"
      ],
      "metadata": {
        "id": "Wyu_jUQAZvat"
      }
    }
  ]
}